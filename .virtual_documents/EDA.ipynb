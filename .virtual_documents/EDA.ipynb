import pandas as pd
import numpy as np
import NuestrasFunciones

import matplotlib.pyplot as plt
import ptitprince as pt

import warnings
warnings.filterwarnings('ignore')








df_housing = pd.read_csv("In/train.csv")
df_housing





plt.rcParams['figure.figsize'] = [20, 12]  # Width, Height
def grafica_relacion_cat_obj(df, columna,target, order = False,titulo = False): #Fue bueno para un proyecto pasado, menos categorías y en porcentaje de survived. Para esto terrible

    df = df[[columna,target]]
        
    df_barras = df.groupby([columna], as_index = False).agg(["mean","count"])#.sort_index().plot.barh()
    df_barras.columns = list(map("".join, df_barras.columns.values))
    
    if order:
        df_barras = df_barras.reset_index(inplace = False).sort_values(by = target+"mean")
    else:
        df_barras.reset_index(inplace = True)
        
    fig, ax = plt.subplots()
    bars = ax.bar(df_barras[columna], df_barras[target+"mean"])

    for bar,count in zip(bars.patches, df_barras[target+"count"]):
        height = bar.get_height()
        ax.annotate(f'{count}', xy=(bar.get_x() + bar.get_width() / 2, height),
        xytext=(0, 3),  # 3 points vertical offset for better readability
        textcoords='offset points',
        ha='center', va='bottom')
 
    ax.set_xticklabels(df_barras[columna], rotation=90, ha='right')
    if titulo:
        plt.title(titulo)
 
    plt.show()
    
#fig, ax = plt.subplots(figsize=(20, 15))

#ax=pt.RainCloud(x = "MSSubClass", y = "SalePrice", data = df_housing,width_viol = 2,orient = "h")
#pt.RainCloud(x = "MSSubClass", y = "SalePrice", data = df_housing,width_viol = 2,orient = "h")
#grafica_relacion_cat_obj(df_housing,"MSSubClass","SalePrice", order = True)
#plt.scatter(x = "MSSubClass", y = "SalePrice", data = df_housing )
plt.show


# Muchos outliers!


#[print(x)for x in df_housing.dtypes]
[print(f"{x}: {y}") for x,y in zip(df_housing.columns,df_housing.dtypes) if y == "object"]
2+2





NuestrasFunciones.plot(df_housing.SalePrice)
NuestrasFunciones.plot(np.log(df_housing.SalePrice))
#Variable con demasiados outliers y fuerte asimetría positiva, será mejor estudiar su logaritmo


df_housing["log_SalePrice"] = np.log(df_housing.SalePrice)


pt.RainCloud(x = "MSZoning", y = "SalePrice", data = df_housing,width_viol = 1,orient = "h")
plt.title("MSZoning-SalePrice")





pt.RainCloud(x = "MSZoning", y = "log_SalePrice", data = df_housing,width_viol =1,orient = "h")
plt.title("MSZoning-log(SalePrice)")
df_housing.MSZoning.value_counts()


# Un tanto extraño que comercial tenga los precios más bajos








df_housing.query('MSZoning == "RL" and(log_SalePrice < 11 or log_SalePrice > 13.5)').sort_values(by = "SalePrice")
# La diferencia grande entre los super outliers por debajo y arriba parece ser MSSubclass y LotArea


pt.RainCloud(x = "MSSubClass", y = "log_SalePrice", data = df_housing,width_viol =1,orient = "h")
plt.title("MSSubClass-log(SalePrice)")

#Los números representan tipos de vivienda, dos pisos, 1 piso, duplex, etc
#Buen candidato para un cardinal encoder

# Los poutliers pasados por arriba son:
#60s, es decir 2-STORY 1946 & NEWER y LotArea > 15000 No los saco del df

# Los poutliers pasados por abajo son:
#60s, es decir 2-STORY 19(46 & NEWER y LotArea > 15000 No los saco del df
# pero uno es 30(1-STORY 1945 & OLDER) y 8mil LotArea, con LotFrontage también bajobuen candidato para descartar
#Aunque es 2010, recuperación de precios de vivienda








plt.scatter(x = "LotArea", y = "SalePrice", data = df_housing)
plt.show()
plt.scatter(x = "LotArea", y = "log_SalePrice", data = df_housing)
plt.show()
plt.scatter(x = "LotArea", y = "log_SalePrice", data = df_housing.query("LotArea<50000"))





pt.RainCloud(x = "Street", y = "log_SalePrice", data = df_housing,width_viol = 1,orient = "h")
plt.title("Street-log(SalePrice)")

print(df_housing.Street.isna().sum())
print(df_housing.Street.value_counts())
#Casi todas las observaciones son Grvl, el comportamiento frente a salesprice no parece ser muy diferente la una de la otra, variable algo inutil
df_housing.drop("Street", axis = 1,inplace = True )


pt.RainCloud(x = "Alley", y = "log_SalePrice", data = df_housing,width_viol = 1,orient = "h")
plt.title("Alley-log(SalePrice)")

print(df_housing.Alley.isna().sum())
# Demasiados missings, variable que no parece ser capaz de aportar algo
df_housing.drop("Alley",axis = 1,inplace = True)


print(df_housing.LotShape.value_counts())
pt.RainCloud(x = "LotShape", y = "log_SalePrice", data = df_housing,width_viol = 1,orient = "h")
plt.title("LotShape-log(SalePrice)")
plt.show()
pt.RainCloud(x = "LotShape", y = "SalePrice", data = df_housing,width_viol = 1,orient = "h")
plt.title("LotShape-SalePrice")


#Reg e IR1 parecen ser suficientemente distintos, IR2 e IR3 son algo iguales en media pero IR2 tiene una cola extraña.
#No parece ser una variable con mucho poder predictivo, tampoco creo que eliminarla esté bien, al revisar el modelo probaremos con y sin.
df_housing.query('LotShape == "IR2" and(SalePrice > 400000)').sort_values(by = "SalePrice",ascending = False)



print(df_housing.LandContour.value_counts())
pt.RainCloud(x = "LandContour", y = "log_SalePrice", data = df_housing,width_viol = 1,orient = "h")
plt.title("LandContour-log(SalePrice)")
# Pocas observaciones en Bnk, HLS, Low. ver con y sin


print(df_housing.Utilities.value_counts())
pt.RainCloud(x = "Utilities", y = "log_SalePrice", data = df_housing,width_viol = 1,orient = "h")
plt.title("Utilities-log(SalePrice)")
# Drop obvio
df_housing.drop("Utilities",axis = 1, inplace = True)


print(df_housing.LotConfig.value_counts())
pt.RainCloud(x = "LotConfig", y = "log_SalePrice", data = df_housing,width_viol = 1,orient = "h")
plt.title("LotConfig-log(SalePrice)")
plt.show()
pt.RainCloud(x = "LotConfig", y = "SalePrice", data = df_housing,width_viol = 1,orient = "h")
plt.title("LotConfig-SalePrice")
#No parece ser una variable muy útil, rangos intercuartílicos similares.


print(df_housing.LandSlope.value_counts())
pt.RainCloud(x = "LandSlope", y = "log_SalePrice", data = df_housing,width_viol = 1,orient = "h")
plt.title("LandSlope-log(SalePrice)")
#Mala distribución entre categorías, rangos intercuartílicos casi idénticos, le hago drop
df_housing.drop("LandSlope",axis = 1,inplace=True)


#pt.RainCloud(x = "Neighborhood", y = "log_SalePrice", data = df_housing,width_viol = 1,orient = "h")
grafica_relacion_cat_obj(df_housing,"Neighborhood","SalePrice", order = True, titulo = "Neighborhood-SalePrice")
#3 bins


print(df_housing.Condition1.value_counts())
pt.RainCloud(x = "Condition1", y = "log_SalePrice", data = df_housing,width_viol = 1,orient = "h")
plt.title("Condition1-SalePrice")
plt.show()
grafica_relacion_cat_obj(df_housing,"Condition1","SalePrice", order = True, titulo = "Condition1-SalePrice")

#Pudiese hacerle binning, pero las variables la relación con el objetivo no es nada constante, creo que mejor es un drop


print(df_housing.Condition2.value_counts())
print(f"NAs:{df_housing.Condition2.isna().sum()}")
pt.RainCloud(x = "Condition2", y = "log_SalePrice", data = df_housing,width_viol = 1,orient = "h")
plt.show()
grafica_relacion_cat_obj(df_housing,"Condition2","SalePrice", order = True, titulo = "Condition1-SalePrice")
#Todo lo que no es normal está muy poco poblado, mejor deshacerse de eso 
df_housing.drop("Condition2",axis =1,inplace=True)


print(df_housing.BldgType.value_counts())
print(f"NAs:{df_housing.BldgType.isna().sum()}")
pt.RainCloud(x = "BldgType", y = "log_SalePrice", data = df_housing,width_viol = 1,orient = "h")
plt.title("BldgType-SalePrice")
plt.show()
grafica_relacion_cat_obj(df_housing,"BldgType","SalePrice", order = True, titulo = "BldgType-SalePrice")
#Dos bins muy claros


print(df_housing.HouseStyle.value_counts())
print(f"NAs:{df_housing.HouseStyle.isna().sum()}")
pt.RainCloud(x = "HouseStyle", y = "log_SalePrice", data = df_housing,width_viol = 1,orient = "h")
plt.title("HouseStyle-SalePrice")
plt.show()
grafica_relacion_cat_obj(df_housing,"HouseStyle","SalePrice", order = True, titulo = "HouseStyle-SalePrice")


print(df_housing.RoofStyle.value_counts())
print(f"NAs:{df_housing.RoofStyle.isna().sum()}")
pt.RainCloud(x = "RoofStyle", y = "log_SalePrice", data = df_housing,width_viol = 1,orient = "h")
plt.title("RoofStyle-SalePrice")
plt.show()
grafica_relacion_cat_obj(df_housing,"RoofStyle","SalePrice", order = True, titulo = "RoofStyle-SalePrice")


print(df_housing.RoofMatl.value_counts())
print(f"NAs:{df_housing.RoofMatl.isna().sum()}")
pt.RainCloud(x = "RoofMatl", y = "log_SalePrice", data = df_housing,width_viol = 1,orient = "h")
plt.title("RoofMatl-SalePrice")
plt.show()
grafica_relacion_cat_obj(df_housing,"RoofMatl","SalePrice", order = True, titulo = "RoofMatl-SalePrice")


print(df_housing.Exterior1st.value_counts())
print(f"NAs:{df_housing.Exterior1st.isna().sum()}")
pt.RainCloud(x = "Exterior1st", y = "log_SalePrice", data = df_housing,width_viol = 1,orient = "h")
plt.title("Exterior1st-SalePrice")
plt.show()
grafica_relacion_cat_obj(df_housing,"Exterior1st","SalePrice", order = True, titulo = "Exterior1st-SalePrice")










































