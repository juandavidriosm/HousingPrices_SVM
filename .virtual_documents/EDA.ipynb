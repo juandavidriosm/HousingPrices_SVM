import pandas as pd
import numpy as np
import NuestrasFunciones

import matplotlib.pyplot as plt
import ptitprince as pt

import warnings
warnings.filterwarnings('ignore')








df_housing = pd.read_csv("In/train.csv")
df_housing





plt.rcParams['figure.figsize'] = [20, 12]  # Width, Height
def grafica_relacion_cat_obj(df, columna,target, order = False,): #Fue bueno para un proyecto pasado, menos categorías y en porcentaje de survived. Para esto terrible

    df = df[[columna,target]]
        
    df_barras = df.groupby([columna], as_index = False).agg(["mean","count"])#.sort_index().plot.barh()
    df_barras.columns = list(map("".join, df_barras.columns.values))
    
    if order:
        df_barras = df_barras.reset_index(inplace = False).sort_values(by = target+"mean")
    else:
        df_barras.reset_index(inplace = True)
        
    fig, ax = plt.subplots()
    bars = ax.bar(df_barras[columna], df_barras[target+"mean"])

    for bar,count in zip(bars.patches, df_barras[target+"count"]):
        height = bar.get_height()
        ax.annotate(f'{count}', xy=(bar.get_x() + bar.get_width() / 2, height),
        xytext=(0, 3),  # 3 points vertical offset for better readability
        textcoords='offset points',
        ha='center', va='bottom')
 
    ax.set_xticklabels(df_barras[columna], rotation=90, ha='right')
 
    plt.show()
    
#fig, ax = plt.subplots(figsize=(20, 15))

#ax=pt.RainCloud(x = "MSSubClass", y = "SalePrice", data = df_housing,width_viol = 2,orient = "h")
#pt.RainCloud(x = "MSSubClass", y = "SalePrice", data = df_housing,width_viol = 2,orient = "h")
#grafica_relacion_cat_obj(df_housing,"MSSubClass","SalePrice", order = True)
#plt.scatter(x = "MSSubClass", y = "SalePrice", data = df_housing )
plt.show


# Muchos outliers!


#[print(x)for x in df_housing.dtypes]
[print(f"{x}: {y}") for x,y in zip(df_housing.columns,df_housing.dtypes) if y == "object"]
2+2





NuestrasFunciones.plot(df_housing.SalePrice)
NuestrasFunciones.plot(np.log(df_housing.SalePrice))
#Variable con demasiados outliers y fuerte asimetría positiva, será mejor estudiar su logaritmo


df_housing["log_SalePrice"] = np.log(df_housing.SalePrice)


pt.RainCloud(x = "MSZoning", y = "SalePrice", data = df_housing,width_viol = 1,orient = "h")
plt.title("MSZoning-SalePrice")





pt.RainCloud(x = "MSZoning", y = "log_SalePrice", data = df_housing,width_viol =1,orient = "h")
plt.title("MSZoning-log(SalePrice)")
df_housing.MSZoning.value_counts()


# Un tanto extraño que comercial tenga los precios más bajos








df_housing.query('MSZoning == "RL" and(log_SalePrice < 11 or log_SalePrice > 13.5)').sort_values(by = "SalePrice")
# La diferencia grande entre los super outliers por debajo y arriba parece ser MSSubclass y LotArea


pt.RainCloud(x = "MSSubClass", y = "log_SalePrice", data = df_housing,width_viol =1,orient = "h")
plt.title("MSSubClass-log(SalePrice)")

#Los números representan tipos de vivienda, dos pisos, 1 piso, duplex, etc
#Buen candidato para un cardinal encoder

# Los poutliers pasados por arriba son:
#60s, es decir 2-STORY 1946 & NEWER y LotArea > 15000 No los saco del df

# Los poutliers pasados por abajo son:
#60s, es decir 2-STORY 19(46 & NEWER y LotArea > 15000 No los saco del df
# pero uno es 30(1-STORY 1945 & OLDER) y 8mil LotArea, con LotFrontage también bajobuen candidato para descartar
#Aunque es 2010, recuperación de precios de vivienda








plt.scatter(x = "LotArea", y = "SalePrice", data = df_housing)
plt.show()
plt.scatter(x = "LotArea", y = "log_SalePrice", data = df_housing)
plt.show()
plt.scatter(x = "LotArea", y = "log_SalePrice", data = df_housing.query("LotArea<50000"))





pt.RainCloud(x = "Street", y = "log_SalePrice", data = df_housing,width_viol = 1,orient = "h")
plt.title("Street-log(SalePrice)")

print(df_housing.Street.isna().sum())
print(df_housing.Street.value_counts())
#Casi todas las observaciones son Grvl, el comportamiento frente a salesprice no parece ser muy diferente la una de la otra, variable algo inutil
df_housing.drop("Street", axis = 1,inplace = True )


pt.RainCloud(x = "Alley", y = "log_SalePrice", data = df_housing,width_viol = 1,orient = "h")
plt.title("Alley-log(SalePrice)")

print(df_housing.Alley.isna().sum())
# Demasiados missings, variable que no parece ser capaz de aportar algo
df_housing.drop("Alley",axis = 1,inplace = True)


print(df_housing.LotShape.value_counts())
pt.RainCloud(x = "LotShape", y = "log_SalePrice", data = df_housing,width_viol = 1,orient = "h")
plt.title("LotShape-log(SalePrice)")
plt.show()
pt.RainCloud(x = "LotShape", y = "SalePrice", data = df_housing,width_viol = 1,orient = "h")
plt.title("LotShape-SalePrice")


#Reg e IR1 parecen ser suficientemente distintos, IR2 e IR3 son algo iguales en media pero IR2 tiene una cola extraña.
df_housing.query('LotShape == "IR2" and(SalePrice > 400000)').sort_values(by = "SalePrice",ascending = False)











































