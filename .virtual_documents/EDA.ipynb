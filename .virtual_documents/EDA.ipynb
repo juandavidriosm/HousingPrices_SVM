import pandas as pd
import numpy as np


import matplotlib.pyplot as plt
import ptitprince as pt

import warnings
warnings.filterwarnings('ignore')








df_housing = pd.read_csv("In/train.csv")
df_housing


plt.scatter(x = "MSSubClass", y = "SalePrice", data = df_housing )


#Fue bueno para un proyecto pasado, menos categorías y en porcentaje de survived. Para esto terrible
def grafica_relacion_cat_obj(df, columna,target, order = False,): 

    df = df[[columna,target]]
        
    df_barras = df.groupby([columna], as_index = False).agg(["mean","count"])#.sort_index().plot.barh()
    df_barras.columns = list(map("".join, df_barras.columns.values))
    
    if order:
        df_barras = df_barras.reset_index(inplace = False).sort_values(by = target+"mean")
    else:
        df_barras.reset_index(inplace = True)
        
    fig, ax = plt.subplots()
    bars = ax.bar(df_barras[columna], df_barras[target+"mean"])

    for bar,count in zip(bars.patches, df_barras[target+"count"]):
        height = bar.get_height()
        ax.annotate(f'{count}', xy=(bar.get_x() + bar.get_width() / 2, height),
        xytext=(0, 3),  # 3 points vertical offset for better readability
        textcoords='offset points',
        ha='center', va='bottom')
 
    ax.set_xticklabels(df_barras[columna], rotation=90, ha='right')
 
    plt.show()
    
grafica_relacion_cat_obj(df_housing,"MSSubClass","SalePrice", order = True)


fig, ax = plt.subplots(figsize=(20, 15))

ax=pt.RainCloud(x = "MSSubClass", y = "SalePrice", data = df_housing,width_viol = 2,orient = "h")





[print(x)for x in df_housing.dtypes]
2+2






