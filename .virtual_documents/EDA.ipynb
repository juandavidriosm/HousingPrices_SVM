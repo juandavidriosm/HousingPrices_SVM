import pandas as pd
import numpy as np
import NuestrasFunciones

import matplotlib.pyplot as plt
import ptitprince as pt

import warnings
warnings.filterwarnings('ignore')








df_housing = pd.read_csv("In/train.csv")
df_housing





plt.rcParams['figure.figsize'] = [20, 12]  # Width, Height
def grafica_relacion_cat_obj(df, columna,target, order = False,): #Fue bueno para un proyecto pasado, menos categorías y en porcentaje de survived. Para esto terrible

    df = df[[columna,target]]
        
    df_barras = df.groupby([columna], as_index = False).agg(["mean","count"])#.sort_index().plot.barh()
    df_barras.columns = list(map("".join, df_barras.columns.values))
    
    if order:
        df_barras = df_barras.reset_index(inplace = False).sort_values(by = target+"mean")
    else:
        df_barras.reset_index(inplace = True)
        
    fig, ax = plt.subplots()
    bars = ax.bar(df_barras[columna], df_barras[target+"mean"])

    for bar,count in zip(bars.patches, df_barras[target+"count"]):
        height = bar.get_height()
        ax.annotate(f'{count}', xy=(bar.get_x() + bar.get_width() / 2, height),
        xytext=(0, 3),  # 3 points vertical offset for better readability
        textcoords='offset points',
        ha='center', va='bottom')
 
    ax.set_xticklabels(df_barras[columna], rotation=90, ha='right')
 
    plt.show()
    
#fig, ax = plt.subplots(figsize=(20, 15))

#ax=pt.RainCloud(x = "MSSubClass", y = "SalePrice", data = df_housing,width_viol = 2,orient = "h")
#pt.RainCloud(x = "MSSubClass", y = "SalePrice", data = df_housing,width_viol = 2,orient = "h")
#grafica_relacion_cat_obj(df_housing,"MSSubClass","SalePrice", order = True)
#plt.scatter(x = "MSSubClass", y = "SalePrice", data = df_housing )
plt.show


# Muchos outliers!


#[print(x)for x in df_housing.dtypes]
[print(f"{x}: {y}") for x,y in zip(df_housing.columns,df_housing.dtypes) if y == "object"]
2+2


NuestrasFunciones.plot(df_housing.SalePrice)
NuestrasFunciones.plot(np.log(df_housing.SalePrice))
#Variable con demasiados outliers y fuerte asimetría positiva, será mejor estudiar su logaritmo


df_housing["log_SalePrice"]= np.log(df_housing.SalePrice)


pt.RainCloud(x = "MSZoning", y = "SalePrice", data = df_housing,width_viol = 2,orient = "h")





pt.RainCloud(x = "MSZoning", y = "log_SalePrice", data = df_housing,width_viol = 2,orient = "h")




































