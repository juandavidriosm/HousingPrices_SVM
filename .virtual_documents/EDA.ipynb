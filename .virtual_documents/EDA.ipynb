import pandas as pd
import numpy as np
import NuestrasFunciones

import matplotlib.pyplot as plt
import ptitprince as pt

import warnings
warnings.filterwarnings('ignore')








df_housing = pd.read_csv("In/train.csv")
df_housing





plt.rcParams['figure.figsize'] = [20, 12]  # Width, Height
def grafica_relacion_cat_obj(df, columna,target, order = False,titulo = False): #Fue bueno para un proyecto pasado, menos categorías y en porcentaje de survived. Para esto terrible

    df = df[[columna,target]]
        
    df_barras = df.groupby([columna], as_index = False).agg(["mean","count"])#.sort_index().plot.barh()
    df_barras.columns = list(map("".join, df_barras.columns.values))
    
    if order:
        df_barras = df_barras.reset_index(inplace = False).sort_values(by = target+"mean")
    else:
        df_barras.reset_index(inplace = True)
        
    fig, ax = plt.subplots()
    bars = ax.bar(df_barras[columna], df_barras[target+"mean"])

    for bar,count in zip(bars.patches, df_barras[target+"count"]):
        height = bar.get_height()
        ax.annotate(f'{count}', xy=(bar.get_x() + bar.get_width() / 2, height),
        xytext=(0, 3),  # 3 points vertical offset for better readability
        textcoords='offset points',
        ha='center', va='bottom')
 
    ax.set_xticklabels(df_barras[columna], rotation=90, ha='right')
    if titulo:
        plt.title(titulo)
 
    plt.show()
    
#fig, ax = plt.subplots(figsize=(20, 15))

#ax=pt.RainCloud(x = "MSSubClass", y = "SalePrice", data = df_housing,width_viol = 2,orient = "h")
#pt.RainCloud(x = "MSSubClass", y = "SalePrice", data = df_housing,width_viol = 2,orient = "h")
#grafica_relacion_cat_obj(df_housing,"MSSubClass","SalePrice", order = True)
#plt.scatter(x = "MSSubClass", y = "SalePrice", data = df_housing )
plt.show








#[print(x)for x in df_housing.dtypes]
[print(f"{x}: {y}") for x,y in zip(df_housing.columns,df_housing.dtypes) if y == "object"]
2+2





NuestrasFunciones.plot(df_housing.SalePrice)
plt.show()
df_housing["log_SalePrice"] = np.log(df_housing.SalePrice)
NuestrasFunciones.plot(df_housing.log_SalePrice)
plt.show()
#Variable con demasiados outliers y fuerte asimetría positiva, será mejor estudiar su logaritmo








pt.RainCloud(x = "MSZoning", y = "SalePrice", data = df_housing,width_viol = 1,orient = "h")
plt.title("MSZoning-SalePrice")
grafica_relacion_cat_obj(df_housing,"MSZoning","SalePrice", order = True, titulo = "MSZoning-SalePrice")












pt.RainCloud(x = "MSZoning", y = "LotArea", data = df_housing,width_viol = 1,orient = "h")
plt.title("MSZoning-LotArea. WOW los outliers en residential")


df_housing.LotArea.mean()


pt.RainCloud(x = "MSZoning", y = "LotArea", data = df_housing.query('LotArea <= 17000'),width_viol = 1,orient = "h")
plt.title("Commercial no parece tener LotArea especialmente bajo")


df_housing.query('MSZoning == "C (all)"').sort_values(by = "SalePrice")


pt.RainCloud(x = "MSSubClass", y = "log_SalePrice", data = df_housing,width_viol =1,orient = "h")
plt.title("MSSubClass-log(SalePrice)")
#Los números representan tipos de vivienda, dos pisos, 1 piso, duplex, etc
#Buen candidato para un cardinal encoder

# Los poutliers pasados por arriba son:
#60s, es decir 2-STORY 1946 & NEWER y LotArea > 15000 No los saco del df

# Los poutliers pasados por abajo son:
#60s, es decir 2-STORY 19(46 & NEWER y LotArea > 15000 No los saco del df
# pero uno es 30(1-STORY 1945 & OLDER) y 8mil LotArea, con LotFrontage también bajobuen candidato para descartar
#Aunque es 2010, recuperación de precios de vivienda








plt.scatter(x = "LotArea", y = "SalePrice", data = df_housing)
plt.title("LotArea-SalePrice")
plt.show()
plt.scatter(x = "LotArea", y = "log_SalePrice", data = df_housing)
plt.title("LotArea-Log_SalePrice")
plt.show()
plt.scatter(x = "LotArea", y = "log_SalePrice", data = df_housing.query("LotArea<50000"))
plt.title("LotArea-Log_SalePrice. Sólo LotArea < 50000")





pt.RainCloud(x = "Street", y = "log_SalePrice", data = df_housing,width_viol = 1,orient = "h")
plt.title("Street-log(SalePrice)")
#grafica_relacion_cat_obj(df_housing,"Street","SalePrice", order = True, titulo = "Street-SalePrice")

print(df_housing.Street.isna().sum())
print(df_housing.Street.value_counts())
#Casi todas las observaciones son Grvl, el comportamiento frente a salesprice no parece ser muy diferente la una de la otra, variable algo inutil
df_housing.drop("Street", axis = 1,inplace = True )



df_housing.loc[df_housing["Alley"].isna(), "Alley"] = "No_alley_access"

pt.RainCloud(x = "Alley", y = "log_SalePrice", data = df_housing,width_viol = 1,orient = "h")
plt.title("Alley-log(SalePrice)")
grafica_relacion_cat_obj(df_housing,"Alley","SalePrice", order = True, titulo = "Alley-SalePrice")


print(df_housing.Alley.isna().sum())
# Alley —> OHE GRVL Y OTHER.


print(df_housing.LotShape.value_counts())
pt.RainCloud(x = "LotShape", y = "log_SalePrice", data = df_housing,width_viol = 1,orient = "h")
plt.title("LotShape-log(SalePrice)")
plt.show()
grafica_relacion_cat_obj(df_housing,"LotShape","SalePrice", order = True, titulo = "LotShape-SalePrice")
# Dicotómica Reg y las demás (irregular)


print(df_housing.LandContour.value_counts())
pt.RainCloud(x = "LandContour", y = "log_SalePrice", data = df_housing,width_viol = 1,orient = "h")
plt.title("LandContour-log(SalePrice)")
grafica_relacion_cat_obj(df_housing,"LandContour","SalePrice", order = True, titulo = "LandContour-SalePrice")

# Pocas observaciones en Bnk, HLS, Low. ver con y sin


print(df_housing.Utilities.value_counts())
pt.RainCloud(x = "Utilities", y = "log_SalePrice", data = df_housing,width_viol = 1,orient = "h")
plt.title("Utilities-log(SalePrice)")
#grafica_relacion_cat_obj(df_housing,"Utilities","SalePrice", order = True, titulo = "Utilities-SalePrice")

# Drop obvio
df_housing.drop("Utilities",axis = 1, inplace = True)


print(df_housing.LotConfig.value_counts())
pt.RainCloud(x = "LotConfig", y = "log_SalePrice", data = df_housing,width_viol = 1,orient = "h")
plt.title("LotConfig-log(SalePrice)")
plt.show()
grafica_relacion_cat_obj(df_housing,"LotConfig","SalePrice", order = True, titulo = "LotConfig-SalePrice")
#Culdesac y las demás. Dicotómica.


print(df_housing.LandSlope.value_counts())
pt.RainCloud(x = "LandSlope", y = "log_SalePrice", data = df_housing,width_viol = 1,orient = "h")
plt.title("LandSlope-log(SalePrice)")
#Muy Muy poca diferencia en la distribución entre categorías, rangos intercuartílicos casi idénticos, le hago drop
df_housing.drop("LandSlope",axis = 1,inplace=True)


#pt.RainCloud(x = "Neighborhood", y = "log_SalePrice", data = df_housing,width_viol = 1,orient = "h")
grafica_relacion_cat_obj(df_housing,"Neighborhood","SalePrice", order = True, titulo = "Neighborhood-SalePrice")
#4 bins


print(df_housing.Condition1.value_counts())
pt.RainCloud(x = "Condition1", y = "log_SalePrice", data = df_housing,width_viol = 1,orient = "h")
plt.title("Condition1-SalePrice")
plt.show()
grafica_relacion_cat_obj(df_housing,"Condition1","SalePrice", order = True, titulo = "Condition1-SalePrice")

#Pudiese hacerle binning, pero las variables la relación con el objetivo no es nada constante, creo que mejor es un drop


print(df_housing.Condition2.value_counts())
print(f"NAs:{df_housing.Condition2.isna().sum()}")
pt.RainCloud(x = "Condition2", y = "log_SalePrice", data = df_housing,width_viol = 1,orient = "h")
plt.show()
grafica_relacion_cat_obj(df_housing,"Condition2","SalePrice", order = True, titulo = "Condition1-SalePrice")
#Todo lo que no es normal está muy poco poblado, mejor deshacerse de eso 
df_housing.drop("Condition2",axis =1,inplace=True)


print(df_housing.BldgType.value_counts())
print(f"NAs:{df_housing.BldgType.isna().sum()}")
pt.RainCloud(x = "BldgType", y = "log_SalePrice", data = df_housing,width_viol = 1,orient = "h")
plt.title("BldgType-SalePrice")
plt.show()
grafica_relacion_cat_obj(df_housing,"BldgType","SalePrice", order = True, titulo = "BldgType-SalePrice")
#Dos bins muy claros


print(df_housing.HouseStyle.value_counts())
print(f"NAs:{df_housing.HouseStyle.isna().sum()}")
pt.RainCloud(x = "HouseStyle", y = "log_SalePrice", data = df_housing,width_viol = 1,orient = "h")
plt.title("HouseStyle-SalePrice")
plt.show()
grafica_relacion_cat_obj(df_housing,"HouseStyle","SalePrice", order = True, titulo = "HouseStyle-SalePrice")


print(df_housing.RoofStyle.value_counts())
print(f"NAs:{df_housing.RoofStyle.isna().sum()}")
pt.RainCloud(x = "RoofStyle", y = "log_SalePrice", data = df_housing,width_viol = 1,orient = "h")
plt.title("RoofStyle-SalePrice")
plt.show()
grafica_relacion_cat_obj(df_housing,"RoofStyle","SalePrice", order = True, titulo = "RoofStyle-SalePrice")


print(df_housing.RoofMatl.value_counts())
print(f"NAs:{df_housing.RoofMatl.isna().sum()}")
pt.RainCloud(x = "RoofMatl", y = "log_SalePrice", data = df_housing,width_viol = 1,orient = "h")
plt.title("RoofMatl-SalePrice")
plt.show()
grafica_relacion_cat_obj(df_housing,"RoofMatl","SalePrice", order = True, titulo = "RoofMatl-SalePrice")
# Drop por falta de observaciones en las categorías no CompShg
df_housing.drop("RoofMatl",axis = 1,inplace = True)


print(df_housing.Exterior1st.value_counts())
print(f"NAs:{df_housing.Exterior1st.isna().sum()}")
pt.RainCloud(x = "Exterior1st", y = "log_SalePrice", data = df_housing,width_viol = 1,orient = "h")
plt.title("Exterior1st-SalePrice")
plt.show()
grafica_relacion_cat_obj(df_housing,"Exterior1st","SalePrice", order = True, titulo = "Exterior1st-SalePrice")
#Exterior1st: --> stone e imstucc = cementbd & Brkcomm y AsphShn y Cblock = Asbsheng --> 3 bins


#print(df_housing.Exterior2nd.value_counts())
print(f"NAs:{df_housing.Exterior2nd.isna().sum()}")
pt.RainCloud(x = "Exterior2nd", y = "log_SalePrice", data = df_housing,width_viol = 1,orient = "h")
plt.title("Exterior2nd-SalePrice")
plt.show()
grafica_relacion_cat_obj(df_housing,"Exterior2nd","SalePrice", order = True, titulo = "Exterior2nd-SalePrice")
#No parece tener demasiada importancia. Haría dos bins


#Le asigno no masonry veneer al most common
df_housing.loc[df_housing["MasVnrType"].isna(), "MasVnrType"] = "BrkFace"

print(f"NAs:{df_housing.MasVnrType.isna().sum()}")
pt.RainCloud(x = "MasVnrType", y = "log_SalePrice", data = df_housing,width_viol = 1,orient = "h")
plt.title("MasVnrType-SalePrice")
plt.show()
grafica_relacion_cat_obj(df_housing,"MasVnrType","SalePrice", order = True, titulo = "MasVnrType-SalePrice")
#MasVnrType: --> OHE


#print(df_housing.MasVnrType.value_counts())
print(f"NAs:{df_housing.ExterQual.isna().sum()}")
pt.RainCloud(x = "ExterQual", y = "log_SalePrice", data = df_housing,width_viol = 1,orient = "h")
plt.title("ExterQual-SalePrice")
plt.show()
grafica_relacion_cat_obj(df_housing,"ExterQual","SalePrice", order = True, titulo = "ExterQual-SalePrice")
#ExterQual: --> Ordinal, meaning is quality


#print(df_housing.MasVnrType.value_counts())
print(f"NAs:{df_housing.ExterCond.isna().sum()}")
pt.RainCloud(x = "ExterCond", y = "log_SalePrice", data = df_housing,width_viol = 1,orient = "h")
plt.title("ExterCond-SalePrice")
plt.show()
grafica_relacion_cat_obj(df_housing,"ExterCond","SalePrice", order = True, titulo = "ExterCond-SalePrice")
#ExterCond: --> Ordinal, meaning is quality


#print(df_housing.MasVnrType.value_counts())
print(f"NAs:{df_housing.Foundation.isna().sum()}")
pt.RainCloud(x = "Foundation", y = "log_SalePrice", data = df_housing,width_viol = 1,orient = "h")
plt.title("Foundation-SalePrice")
plt.show()
grafica_relacion_cat_obj(df_housing,"Foundation","SalePrice", order = True, titulo = "ExterCond-SalePrice")
#Foundation: --> Buen OHE, pero stone y wood tienen muy pocas obs y mucha varianza. Capaz sea bueno declarar missing y que imputador elija




#print(df_housing.MasVnrType.value_counts())
print(f"NAs:{df_housing.BsmtQual.isna().sum()}")
pt.RainCloud(x = "BsmtQual", y = "log_SalePrice", data = df_housing,width_viol = 1,orient = "h")
plt.title("BsmtQual-SalePrice")
plt.show()
grafica_relacion_cat_obj(df_housing,"BsmtQual","SalePrice", order = True, titulo = "BsmtQual-SalePrice")
#BsmtQual: --> Ordinal, meaning is quality



#print(df_housing.MasVnrType.value_counts())
print(f"NAs:{df_housing.BsmtCond.isna().sum()}")
pt.RainCloud(x = "BsmtCond", y = "log_SalePrice", data = df_housing,width_viol = 1,orient = "h")
plt.title("BsmtCond-SalePrice")
plt.show()
grafica_relacion_cat_obj(df_housing,"BsmtCond","SalePrice", order = True, titulo = "BsmtCond-SalePrice")
#BsmtCond: --> Ordinal, meaning is quality poor = fair



#print(df_housing.MasVnrType.value_counts())
print(f"NAs:{df_housing.BsmtExposure.isna().sum()}")
pt.RainCloud(x = "BsmtExposure", y = "log_SalePrice", data = df_housing,width_viol = 1,orient = "h")
plt.title("BsmtExposure-SalePrice")
plt.show()
grafica_relacion_cat_obj(df_housing,"BsmtExposure","SalePrice", order = True, titulo = "BsmtExposure-SalePrice")
#BsmtExposure: --> mn = av, ordinal



#print(df_housing.MasVnrType.value_counts())
df_housing.loc[df_housing["BsmtFinType1"].isna(), "BsmtFinType1"] = "No_Basement"
print(f"NAs:{df_housing.BsmtFinType1.isna().sum()}")
pt.RainCloud(x = "BsmtFinType1", y = "log_SalePrice", data = df_housing,width_viol = 1,orient = "h")
plt.title("BsmtFinType1-SalePrice")
plt.show()
grafica_relacion_cat_obj(df_housing,"BsmtFinType1","SalePrice", order = True, titulo = "BsmtFinType1-SalePrice")
#BsmtFinType1: --> tres bins: GLQ (Good Living Quarters );resto y no_basement, Ordinal 


#print(df_housing.MasVnrType.value_counts())
df_housing.loc[df_housing["BsmtFinType2"].isna(), "BsmtFinType2"] = "No_Basement"
print(f"NAs:{df_housing.BsmtFinType2.isna().sum()}")
pt.RainCloud(x = "BsmtFinType2", y = "log_SalePrice", data = df_housing,width_viol = 1,orient = "h")
plt.title("BsmtFinType2-SalePrice")
plt.show()
grafica_relacion_cat_obj(df_housing,"BsmtFinType2","SalePrice", order = True, titulo = "BsmtFinType2-SalePrice")
#BsmtFinType2: --> dos bins: ALQ	Average Living Quarters y resto o drop



print(df_housing.Heating.value_counts())
print(f"NAs:{df_housing.Heating.isna().sum()}")
pt.RainCloud(x = "Heating", y = "log_SalePrice", data = df_housing,width_viol = 1,orient = "h")
plt.title("Heating-SalePrice")
plt.show()
grafica_relacion_cat_obj(df_housing,"Heating","SalePrice", order = True, titulo = "HeatingQC-SalePrice")
#Heating: --> Casi todos gasA, drop
df_housing.drop("Heating",axis = 1,inplace = True)


print(df_housing.HeatingQC.value_counts())
print(f"NAs:{df_housing.HeatingQC.isna().sum()}")
pt.RainCloud(x = "HeatingQC", y = "log_SalePrice", data = df_housing,width_viol = 1,orient = "h")
plt.title("HeatingQC-SalePrice")
plt.show()
grafica_relacion_cat_obj(df_housing,"HeatingQC","SalePrice", order = True, titulo = "HeatingQC-SalePrice")
#HeatingQC: --> Ordinal poor = fair


print(df_housing.CentralAir.value_counts())
print(f"NAs:{df_housing.CentralAir.isna().sum()}")
pt.RainCloud(x = "CentralAir", y = "log_SalePrice", data = df_housing,width_viol = 1,orient = "h")
plt.title("CentralAir-SalePrice")
plt.show()
grafica_relacion_cat_obj(df_housing,"CentralAir","SalePrice", order = True, titulo = "CentralAir-SalePrice")
#CentralAir: --> muy buena dicontómica


print(df_housing.Electrical.value_counts())
print(f"NAs:{df_housing.Electrical.isna().sum()}")
df_housing.loc[df_housing["Electrical"] == "NA", "Electrical"] = "SBrkr"
#df_housing.loc[df_housing["Electrical"].isna(), "Electrical"] = "NA"

pt.RainCloud(x = "Electrical", y = "log_SalePrice", data = df_housing,width_viol = 1,orient = "h")
plt.title("Electrical-SalePrice")
plt.show()
grafica_relacion_cat_obj(df_housing,"Electrical","SalePrice", order = True, titulo = "Electrical-SalePrice")
#Electrical --> mix == FuseP == FuseF; ordinal


print(df_housing.KitchenQual.value_counts())
print(f"NAs:{df_housing.KitchenQual.isna().sum()}")
pt.RainCloud(x = "KitchenQual", y = "log_SalePrice", data = df_housing,width_viol = 1,orient = "h")
plt.title("KitchenQual-SalePrice")
plt.show()
grafica_relacion_cat_obj(df_housing,"KitchenQual","SalePrice", order = True, titulo = "KitchenQual-SalePrice")
#KitchenQual: --> ordinal


print(df_housing.Functional.value_counts())
print(f"NAs:{df_housing.Functional.isna().sum()}")
pt.RainCloud(x = "Functional", y = "log_SalePrice", data = df_housing,width_viol = 1,orient = "h")
plt.title("Functional-SalePrice")
plt.show()
grafica_relacion_cat_obj(df_housing,"Functional","SalePrice", order = True, titulo = "Functional-SalePrice")
#Functional --> 2 bins typ = typical functionality y las demás que hablan de peor funcionalidad


df_housing.loc[df_housing["FireplaceQu"].isna(), "FireplaceQu"] = "No_fireplace"
print(df_housing.FireplaceQu.value_counts())
print(f"NAs:{df_housing.FireplaceQu.isna().sum()}")
pt.RainCloud(x = "FireplaceQu", y = "log_SalePrice", data = df_housing,width_viol = 1,orient = "h")
plt.title("FireplaceQu-SalePrice")
plt.show()
grafica_relacion_cat_obj(df_housing,"FireplaceQu","SalePrice", order = True, titulo = "FireplaceQu-SalePrice")


#FireplaceQu --> Ordinal nofire_place = poor


df_housing.loc[df_housing["GarageType"].isna(), "GarageType"] = "No_garage"
print(df_housing.GarageType.value_counts())
print(f"NAs:{df_housing.GarageType.isna().sum()}")
pt.RainCloud(x = "GarageType", y = "log_SalePrice", data = df_housing,width_viol = 1,orient = "h")
plt.title("GarageType-SalePrice")
plt.show()
grafica_relacion_cat_obj(df_housing,"GarageType","SalePrice", order = True, titulo = "GarageType-SalePrice")
#GarageType --> Ordinal, 3 bins


df_housing.loc[df_housing["GarageFinish"].isna(), "GarageFinish"] = "No_garage"
print(df_housing.GarageFinish.value_counts())
print(f"NAs:{df_housing.GarageFinish.isna().sum()}")
pt.RainCloud(x = "GarageFinish", y = "log_SalePrice", data = df_housing,width_viol = 1,orient = "h")
plt.title("GarageFinish-SalePrice")
plt.show()
grafica_relacion_cat_obj(df_housing,"GarageFinish","SalePrice", order = True, titulo = "GarageFinish-SalePrice")
#GarageFinish --> Ordinal


df_housing.loc[df_housing["GarageQual"].isna(), "GarageQual"] = "No_garage"
print(df_housing.GarageQual.value_counts())
print(f"NAs:{df_housing.GarageQual.isna().sum()}")
pt.RainCloud(x = "GarageQual", y = "log_SalePrice", data = df_housing,width_viol = 1,orient = "h")
plt.title("GarageQual-SalePrice")
plt.show()
grafica_relacion_cat_obj(df_housing,"GarageQual","SalePrice", order = True, titulo = "GarageQual-SalePrice")
#GarageQual --> Ordinal pasar a dos bins, pudiesen ser más pero los de muy arriba tienen muy pocas obs


df_housing.loc[df_housing["GarageCond"].isna(), "GarageCond"] = "No_garage"
print(df_housing.GarageCond.value_counts())
print(f"NAs:{df_housing.GarageCond.isna().sum()}")
pt.RainCloud(x = "GarageCond", y = "log_SalePrice", data = df_housing,width_viol = 1,orient = "h")
plt.title("GarageCond-SalePrice")
plt.show()
grafica_relacion_cat_obj(df_housing,"GarageCond","SalePrice", order = True, titulo = "GarageCond-SalePrice")
#GarageCond --> Parecen dos bins. Pero excelent debería estar con los mejores, no donde se ve a ojo


cross_tab = pd.crosstab(df_housing['GarageCond'], df_housing['GarageQual'])

# Se repite la info, especialmente con Bins. Le haré drop a GarageCond
df_housing.drop("GarageCond",axis=1,inplace=True)
print(cross_tab)


print(df_housing.PavedDrive.value_counts())
print(f"NAs:{df_housing.PavedDrive.isna().sum()}")
pt.RainCloud(x = "PavedDrive", y = "log_SalePrice", data = df_housing,width_viol = 1,orient = "h")
plt.title("PavedDrive-SalePrice")
plt.show()
grafica_relacion_cat_obj(df_housing,"PavedDrive","SalePrice", order = True, titulo = "PavedDrive-SalePrice")
#PavedDrive --> P = N, queda dicotómica


df_housing.loc[df_housing["PoolQC"].isna(), "PoolQC"] = "No_pool"

print(df_housing.PoolQC.value_counts())
print(f"NAs:{df_housing.PoolQC.isna().sum()}")
pt.RainCloud(x = "PoolQC", y = "log_SalePrice", data = df_housing,width_viol = 1,orient = "h")
plt.title("PoolQC-SalePrice")
plt.show()
grafica_relacion_cat_obj(df_housing,"PoolQC","SalePrice", order = True, titulo = "PoolQC-SalePrice")
#PoolQC --> muy pocas con pool, además no parece tener mucho efecto a menos que sea excelente(tamaño muestral 2). DROP
df_housing.drop("PoolQC",axis = 1, inplace = True)


df_housing.loc[df_housing["Fence"].isna(), "Fence"] = "No_fence"

print(df_housing.Fence.value_counts())
print(f"NAs:{df_housing.Fence.isna().sum()}")
pt.RainCloud(x = "Fence", y = "log_SalePrice", data = df_housing,width_viol = 1,orient = "h")
plt.title("Fence-SalePrice")
plt.show()
grafica_relacion_cat_obj(df_housing,"Fence","SalePrice", order = True, titulo = "Fence-SalePrice")
#Fence --> 2 bins


df_housing.loc[df_housing["MiscFeature"].isna(), "MiscFeature"] = "No_OtherFeature"

print(df_housing.MiscFeature.value_counts())
print(f"NAs:{df_housing.MiscFeature.isna().sum()}")
pt.RainCloud(x = "MiscFeature", y = "log_SalePrice", data = df_housing,width_viol = 1,orient = "h")
plt.title("MiscFeature-SalePrice")
plt.show()
grafica_relacion_cat_obj(df_housing,"MiscFeature","SalePrice", order = True, titulo = "MiscFeature-SalePrice")
#Una casa con tennis court es muy cara, pero no me vale para mucho la única observación, lo otro que se sale del avg es other con 2 obs.DROP
df_housing.drop("MiscFeature",axis=1,inplace = True)


#df_housing.loc[df_housing["MiscFeature"].isna(), "MiscFeature"] = "No_OtherFeature"

print(df_housing.SaleType.value_counts())
print(f"NAs:{df_housing.SaleType.isna().sum()}")
pt.RainCloud(x = "SaleType", y = "log_SalePrice", data = df_housing,width_viol = 1,orient = "h")
plt.title("SaleType-SalePrice")
plt.show()
grafica_relacion_cat_obj(df_housing,"SaleType","SalePrice", order = True, titulo = "SaleType-SalePrice")
#SaleType: --> 3 bins OHE


#df_housing.loc[df_housing["MiscFeature"].isna(), "MiscFeature"] = "No_OtherFeature"

print(df_housing.SaleCondition.value_counts())
print(f"NAs:{df_housing.SaleCondition.isna().sum()}")
pt.RainCloud(x = "SaleCondition", y = "log_SalePrice", data = df_housing,width_viol = 1,orient = "h")
plt.title("SaleCondition-SalePrice")
plt.show()
grafica_relacion_cat_obj(df_housing,"SaleCondition","SalePrice", order = True, titulo = "SaleCondition-SalePrice")
#SaleCondition: --> 2 bins. adjacent land tiene sentido que predizca para abajo pero son 4 obs.



























